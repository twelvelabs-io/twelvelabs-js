{
 "cells": [
  {
   "cell_type": "code",
   "execution_count": 1,
   "metadata": {},
   "outputs": [],
   "source": [
    "const TL_API_KEY='tlk_3S704BN3DPGHXA2M6201F17FBQR5'\n",
    "const INDEX_ID = \"65d6131c48db9fa780cb415f\""
   ]
  },
  {
   "cell_type": "markdown",
   "metadata": {},
   "source": [
    "# Guides"
   ]
  },
  {
   "cell_type": "markdown",
   "metadata": {},
   "source": [
    "## Generate text from video"
   ]
  },
  {
   "cell_type": "markdown",
   "metadata": {},
   "source": [
    "## Tune the temperature"
   ]
  },
  {
   "cell_type": "code",
   "execution_count": 3,
   "metadata": {},
   "outputs": [
    {
     "name": "stderr",
     "output_type": "stream",
     "text": [
      "1:28 - Cannot find module 'twelvelabs-js' or its corresponding type declarations.\n"
     ]
    }
   ],
   "source": [
    "import { TwelveLabs } from 'twelvelabs-js';\n",
    "\n",
    "const client = new TwelveLabs({ apiKey: TL_API_KEY});\n",
    "(async () => {\n",
    "const text = await client.generate.text(\n",
    "  '65e9487948db9fa780cb46c0',\n",
    "  'I want to generate a description for my video with the following format: Title of the video, followed by a summary, highlighting the main topic, key events, and concluding remarks.',\n",
    "  0.5,\n",
    "  );\n",
    "console.log(`Open-ended Text: ${text.data}`);\n",
    "})();"
   ]
  },
  {
   "cell_type": "markdown",
   "metadata": {},
   "source": [
    "## Pagination: iterate and limit"
   ]
  },
  {
   "cell_type": "code",
   "execution_count": null,
   "metadata": {},
   "outputs": [
    {
     "name": "stdout",
     "output_type": "stream",
     "text": [
      "Promise { <pending> }\n"
     ]
    },
    {
     "name": "stdout",
     "output_type": "stream",
     "text": [
      "id=65e59423bb29f13bdd6f378a name=2024-03-04T09:28:03.274Z engines=[{\"name\":\"pegasus1\",\"options\":[\"visual\",\"conversation\"]}] created_at=2024-03-04T09:28:03.891Z\n",
      "id=65e593ebbb29f13bdd6f3789 name=2024-03-04T09:27:07.092Z engines=[{\"name\":\"pegasus1\",\"options\":[\"visual\",\"conversation\"]}] created_at=2024-03-04T09:27:07.891Z\n",
      "id=65e593c6bb29f13bdd6f3787 name=2024-03-04T09:26:29.372Z engines=[{\"name\":\"pegasus1\",\"options\":[\"visual\",\"conversation\"]}] created_at=2024-03-04T09:26:30.203Z\n",
      "id=65e5939bbb29f13bdd6f3785 name=2024-03-04T09:25:47.034Z engines=[{\"name\":\"pegasus1\",\"options\":[\"visual\",\"conversation\"]}] created_at=2024-03-04T09:25:47.813Z\n",
      "id=65e569b6bb29f13bdd6f3731 name=2024-03-04T06:27:01.915Z engines=[{\"name\":\"pegasus1\",\"options\":[\"visual\",\"conversation\"]}] created_at=2024-03-04T06:27:02.618Z\n",
      "id=65e9491dbb29f13bdd6f3e55 name=recipes-2024-05-01 engines=[{\"name\":\"marengo2.5\",\"options\":[\"visual\",\"conversation\",\"text_in_video\"]}] created_at=2024-03-07T04:57:01.063Z\n",
      "id=65e71802bb29f13bdd6f38d8 name=2024-03-05T13:02:57.938Z engines=[{\"name\":\"pegasus1\",\"options\":[\"visual\",\"conversation\"]},{\"name\":\"marengo2.5\",\"options\":[\"visual\",\"conversation\",\"text_in_video\"]}] created_at=2024-03-05T13:02:58.531Z\n",
      "id=65e5ac69bb29f13bdd6f37c4 name=2024-03-04T11:11:36.583Z engines=[{\"name\":\"pegasus1\",\"options\":[\"visual\",\"conversation\"]}] created_at=2024-03-04T11:11:37.393Z\n",
      "id=65e59606bb29f13bdd6f3794 name=2024-03-04T09:36:06.079Z engines=[{\"name\":\"pegasus1\",\"options\":[\"visual\",\"conversation\"]}] created_at=2024-03-04T09:36:06.791Z\n",
      "id=65e5945abb29f13bdd6f378c name=2024-03-04T09:28:57.739Z engines=[{\"name\":\"pegasus1\",\"options\":[\"visual\",\"conversation\"]}] created_at=2024-03-04T09:28:58.473Z\n",
      "id=65e567e6bb29f13bdd6f3730 name=2024-03-04T06:19:18.207Z engines=[{\"name\":\"pegasus1\",\"options\":[\"visual\",\"conversation\"]}] created_at=2024-03-04T06:19:18.862Z\n",
      "id=65e567dabb29f13bdd6f372f name=2024-03-04T06:19:05.798Z engines=[{\"name\":\"pegasus1\",\"options\":[\"visual\",\"conversation\"]}] created_at=2024-03-04T06:19:06.468Z\n",
      "id=65e56706bb29f13bdd6f372e name=2024-03-04T06:15:33.863Z engines=[{\"name\":\"pegasus1\",\"options\":[\"visual\",\"conversation\"]}] created_at=2024-03-04T06:15:34.522Z\n",
      "id=65e566f9bb29f13bdd6f372d name=2024-03-04T06:15:20.859Z engines=[{\"name\":\"pegasus1\",\"options\":[\"visual\",\"conversation\"]}] created_at=2024-03-04T06:15:21.52Z\n",
      "id=65e5663dbb29f13bdd6f372c name=2024-03-04T06:12:12.790Z engines=[{\"name\":\"pegasus1\",\"options\":[\"visual\",\"conversation\"]}] created_at=2024-03-04T06:12:13.642Z\n",
      "id=65e59423bb29f13bdd6f378a name=2024-03-04T09:28:03.274Z engines=[{\"name\":\"pegasus1\",\"options\":[\"visual\",\"conversation\"]}] created_at=2024-03-04T09:28:03.891Z\n",
      "id=65e593ebbb29f13bdd6f3789 name=2024-03-04T09:27:07.092Z engines=[{\"name\":\"pegasus1\",\"options\":[\"visual\",\"conversation\"]}] created_at=2024-03-04T09:27:07.891Z\n",
      "id=65e593c6bb29f13bdd6f3787 name=2024-03-04T09:26:29.372Z engines=[{\"name\":\"pegasus1\",\"options\":[\"visual\",\"conversation\"]}] created_at=2024-03-04T09:26:30.203Z\n",
      "id=65e5939bbb29f13bdd6f3785 name=2024-03-04T09:25:47.034Z engines=[{\"name\":\"pegasus1\",\"options\":[\"visual\",\"conversation\"]}] created_at=2024-03-04T09:25:47.813Z\n",
      "id=65e569b6bb29f13bdd6f3731 name=2024-03-04T06:27:01.915Z engines=[{\"name\":\"pegasus1\",\"options\":[\"visual\",\"conversation\"]}] created_at=2024-03-04T06:27:02.618Z\n",
      "id=65e562e9bb29f13bdd6f372b name=2024-03-04T05:58:00.238Z engines=[{\"name\":\"pegasus1\",\"options\":[\"visual\",\"conversation\"]}] created_at=2024-03-04T05:58:01.179Z\n",
      "id=65e1de67bb29f13bdd6f332a name=<YOUR_INDEX_NAME1115> engines=[{\"name\":\"marengo2.5\",\"options\":[\"visual\",\"conversation\"]}] created_at=2024-03-01T13:55:51.532Z\n",
      "id=65e1d2c1bb29f13bdd6f3324 name=2024-03-01T13:06:08.544Z engines=[{\"name\":\"marengo2.5\",\"options\":[\"visual\",\"conversation\",\"text_in_video\",\"logo\"]},{\"name\":\"pegasus1\",\"options\":[\"visual\",\"conversation\"]}] created_at=2024-03-01T13:06:09.347Z\n",
      "id=65e1d21bbb29f13bdd6f3323 name=2024-03-01T13:03:22.609Z engines=[{\"name\":\"marengo2.5\",\"options\":[\"visual\",\"conversation\",\"text_in_video\",\"logo\"]},{\"name\":\"pegasus1\",\"options\":[\"visual\",\"conversation\"]}] created_at=2024-03-01T13:03:23.452Z\n",
      "id=65e1d1e4bb29f13bdd6f3322 name=2024-03-01T13:02:28.168Z engines=[{\"name\":\"marengo2.5\",\"options\":[\"visual\",\"conversation\",\"text_in_video\",\"logo\"]},{\"name\":\"pegasus1\",\"options\":[\"visual\",\"conversation\"]}] created_at=2024-03-01T13:02:28.931Z\n",
      "id=65e1d1aabb29f13bdd6f3321 name=2024-03-01T13:01:29.927Z engines=[{\"name\":\"pegasus1\",\"options\":[\"visual\",\"conversation\"]}] created_at=2024-03-01T13:01:30.819Z\n",
      "id=65e1d146bb29f13bdd6f3320 name=2024-03-01T12:59:49.219Z engines=[{\"name\":\"marengo2.5\",\"options\":[\"visual\",\"conversation\",\"text_in_video\",\"logo\"]}] created_at=2024-03-01T12:59:50.139Z\n",
      "id=65e1d002bb29f13bdd6f331f name=2024-03-01T12:54:25.178Z engines=[{\"name\":\"marengo2.5\",\"options\":[\"visual\",\"conversation\"]}] created_at=2024-03-01T12:54:26.041Z\n",
      "id=65e1ca48bb29f13bdd6f331d name=<YOUR_INDEX_NAME1113> engines=[{\"name\":\"marengo2.5\",\"options\":[\"visual\",\"conversation\"]}] created_at=2024-03-01T12:30:00.55Z\n",
      "id=65e1c9c3bb29f13bdd6f331c name=<YOUR_INDEX_NAME1112> engines=[{\"name\":\"marengo2.5\",\"options\":[\"visual\",\"conversation\"]}] created_at=2024-03-01T12:27:47.658Z\n",
      "id=65e567e6bb29f13bdd6f3730 name=2024-03-04T06:19:18.207Z engines=[{\"name\":\"pegasus1\",\"options\":[\"visual\",\"conversation\"]}] created_at=2024-03-04T06:19:18.862Z\n",
      "id=65e567dabb29f13bdd6f372f name=2024-03-04T06:19:05.798Z engines=[{\"name\":\"pegasus1\",\"options\":[\"visual\",\"conversation\"]}] created_at=2024-03-04T06:19:06.468Z\n",
      "id=65e56706bb29f13bdd6f372e name=2024-03-04T06:15:33.863Z engines=[{\"name\":\"pegasus1\",\"options\":[\"visual\",\"conversation\"]}] created_at=2024-03-04T06:15:34.522Z\n",
      "id=65e566f9bb29f13bdd6f372d name=2024-03-04T06:15:20.859Z engines=[{\"name\":\"pegasus1\",\"options\":[\"visual\",\"conversation\"]}] created_at=2024-03-04T06:15:21.52Z\n",
      "id=65e5663dbb29f13bdd6f372c name=2024-03-04T06:12:12.790Z engines=[{\"name\":\"pegasus1\",\"options\":[\"visual\",\"conversation\"]}] created_at=2024-03-04T06:12:13.642Z\n",
      "id=65e562e9bb29f13bdd6f372b name=2024-03-04T05:58:00.238Z engines=[{\"name\":\"pegasus1\",\"options\":[\"visual\",\"conversation\"]}] created_at=2024-03-04T05:58:01.179Z\n",
      "id=65e1de67bb29f13bdd6f332a name=<YOUR_INDEX_NAME1115> engines=[{\"name\":\"marengo2.5\",\"options\":[\"visual\",\"conversation\"]}] created_at=2024-03-01T13:55:51.532Z\n",
      "id=65e1d2c1bb29f13bdd6f3324 name=2024-03-01T13:06:08.544Z engines=[{\"name\":\"marengo2.5\",\"options\":[\"visual\",\"conversation\",\"text_in_video\",\"logo\"]},{\"name\":\"pegasus1\",\"options\":[\"visual\",\"conversation\"]}] created_at=2024-03-01T13:06:09.347Z\n",
      "id=65e1d21bbb29f13bdd6f3323 name=2024-03-01T13:03:22.609Z engines=[{\"name\":\"marengo2.5\",\"options\":[\"visual\",\"conversation\",\"text_in_video\",\"logo\"]},{\"name\":\"pegasus1\",\"options\":[\"visual\",\"conversation\"]}] created_at=2024-03-01T13:03:23.452Z\n",
      "id=65e1d1e4bb29f13bdd6f3322 name=2024-03-01T13:02:28.168Z engines=[{\"name\":\"marengo2.5\",\"options\":[\"visual\",\"conversation\",\"text_in_video\",\"logo\"]},{\"name\":\"pegasus1\",\"options\":[\"visual\",\"conversation\"]}] created_at=2024-03-01T13:02:28.931Z\n",
      "id=65e1c98dbb29f13bdd6f331b name=<YOUR_INDEX_NAME111> engines=[{\"name\":\"marengo2.5\",\"options\":[\"visual\",\"conversation\"]}] created_at=2024-03-01T12:26:53.152Z\n",
      "id=65e01384bb29f13bdd6f317a name=Marengo engines=[{\"name\":\"marengo2.5\",\"options\":[\"visual\",\"conversation\",\"text_in_video\",\"logo\"]}] created_at=2024-02-29T05:17:56.247Z\n",
      "id=65d889acabd7318d0147309a name=soccer-pegasus engines=[{\"name\":\"pegasus1\",\"options\":[\"visual\",\"conversation\"]}] created_at=2024-02-23T12:03:56.285Z\n",
      "id=65d4d7b379384c4778ab310e name=63cb76da-9f1f-496c-821d-d1a45312ebb1 engines=[{\"name\":\"marengo2.5\",\"options\":[\"visual\",\"conversation\",\"text_in_video\",\"logo\"]}] created_at=2024-02-20T16:47:47.456Z\n",
      "id=65d4d47b79384c4778ab310c name=9b9cd7d7-612d-4c23-9530-3f0dadb49857 engines=[{\"name\":\"marengo2.5\",\"options\":[\"visual\",\"conversation\",\"text_in_video\",\"logo\"]}] created_at=2024-02-20T16:34:03.764Z\n",
      "id=65d46e4879384c4778ab30f9 name=soccer engines=[{\"name\":\"marengo2.5\",\"options\":[\"visual\",\"conversation\"]}] created_at=2024-02-20T09:18:00.475Z\n",
      "id=65d349536efba5e3988d6d4c name=<YOUR_INDEX_NAME> engines=[{\"name\":\"marengo2.5\",\"options\":[\"visual\",\"conversation\",\"text_in_video\",\"logo\"]},{\"name\":\"pegasus1\",\"options\":[\"visual\",\"conversation\"]}] created_at=2024-02-19T12:28:03.195Z\n",
      "id=65d345106efba5e3988d6d4b name=57d0268c-f580-489d-ae39-ddb9320796f2 engines=[{\"name\":\"marengo2.5\",\"options\":[\"visual\",\"conversation\",\"text_in_video\",\"logo\"]}] created_at=2024-02-19T12:09:52.264Z\n",
      "id=65d345026efba5e3988d6d4a name=e4e97b47-0f9d-4595-8bda-c34c1b064778 engines=[{\"name\":\"marengo2.5\",\"options\":[\"visual\",\"conversation\",\"text_in_video\",\"logo\"]}] created_at=2024-02-19T12:09:38.039Z\n",
      "id=65d33c586efba5e3988d6d43 name=c3770ee8-9d93-4c39-8bd0-46c26366ef27 engines=[{\"name\":\"marengo2.5\",\"options\":[\"visual\",\"conversation\",\"text_in_video\",\"logo\"]}] created_at=2024-02-19T11:32:40.858Z\n",
      "id=65e1d1aabb29f13bdd6f3321 name=2024-03-01T13:01:29.927Z engines=[{\"name\":\"pegasus1\",\"options\":[\"visual\",\"conversation\"]}] created_at=2024-03-01T13:01:30.819Z\n",
      "id=65e1d146bb29f13bdd6f3320 name=2024-03-01T12:59:49.219Z engines=[{\"name\":\"marengo2.5\",\"options\":[\"visual\",\"conversation\",\"text_in_video\",\"logo\"]}] created_at=2024-03-01T12:59:50.139Z\n",
      "id=65e1d002bb29f13bdd6f331f name=2024-03-01T12:54:25.178Z engines=[{\"name\":\"marengo2.5\",\"options\":[\"visual\",\"conversation\"]}] created_at=2024-03-01T12:54:26.041Z\n",
      "id=65e1ca48bb29f13bdd6f331d name=<YOUR_INDEX_NAME1113> engines=[{\"name\":\"marengo2.5\",\"options\":[\"visual\",\"conversation\"]}] created_at=2024-03-01T12:30:00.55Z\n",
      "id=65e1c9c3bb29f13bdd6f331c name=<YOUR_INDEX_NAME1112> engines=[{\"name\":\"marengo2.5\",\"options\":[\"visual\",\"conversation\"]}] created_at=2024-03-01T12:27:47.658Z\n",
      "id=65d33c066efba5e3988d6d42 name=6eab6bc1-a863-4bda-863d-74c1e55d9951 engines=[{\"name\":\"marengo2.5\",\"options\":[\"visual\",\"conversation\",\"text_in_video\",\"logo\"]}] created_at=2024-02-19T11:31:18.395Z\n",
      "id=65d33bd96efba5e3988d6d41 name=6b2d85c4-4ac0-4a71-a821-daae99679aad engines=[{\"name\":\"marengo2.5\",\"options\":[\"visual\",\"conversation\",\"text_in_video\",\"logo\"]},{\"name\":\"pegasus1\",\"options\":[\"visual\",\"conversation\"]}] created_at=2024-02-19T11:30:33.088Z\n",
      "id=65d33bbd6efba5e3988d6d40 name=5d989844-5de3-4a3f-a13a-4aaa0fd6e293 engines=[{\"name\":\"pegasus1\",\"options\":[\"visual\",\"conversation\"]},{\"name\":\"marengo2.5\",\"options\":[\"visual\",\"conversation\",\"text_in_video\",\"logo\"]}] created_at=2024-02-19T11:30:05.834Z\n",
      "id=65d33ba36efba5e3988d6d3f name=b19ab506-e6c7-486a-97e8-427ee9247b7a engines=[{\"name\":\"pegasus1\",\"options\":[\"visual\",\"conversation\"]},{\"name\":\"marengo2.5\",\"options\":[\"visual\",\"conversation\",\"text_in_video\",\"logo\"]}] created_at=2024-02-19T11:29:38.991Z\n",
      "id=65d33b976efba5e3988d6d3e name=9ebed936-9e6a-43d3-8dd5-f8a84f178594 engines=[{\"name\":\"pegasus1\",\"options\":[\"visual\",\"conversation\"]},{\"name\":\"marengo2.5\",\"options\":[\"visual\",\"conversation\",\"text_in_video\",\"logo\"]}] created_at=2024-02-19T11:29:27.451Z\n",
      "id=65e1c98dbb29f13bdd6f331b name=<YOUR_INDEX_NAME111> engines=[{\"name\":\"marengo2.5\",\"options\":[\"visual\",\"conversation\"]}] created_at=2024-03-01T12:26:53.152Z\n",
      "id=65e01384bb29f13bdd6f317a name=Marengo engines=[{\"name\":\"marengo2.5\",\"options\":[\"visual\",\"conversation\",\"text_in_video\",\"logo\"]}] created_at=2024-02-29T05:17:56.247Z\n",
      "id=65d889acabd7318d0147309a name=soccer-pegasus engines=[{\"name\":\"pegasus1\",\"options\":[\"visual\",\"conversation\"]}] created_at=2024-02-23T12:03:56.285Z\n",
      "id=65d4d7b379384c4778ab310e name=63cb76da-9f1f-496c-821d-d1a45312ebb1 engines=[{\"name\":\"marengo2.5\",\"options\":[\"visual\",\"conversation\",\"text_in_video\",\"logo\"]}] created_at=2024-02-20T16:47:47.456Z\n",
      "id=65d4d47b79384c4778ab310c name=9b9cd7d7-612d-4c23-9530-3f0dadb49857 engines=[{\"name\":\"marengo2.5\",\"options\":[\"visual\",\"conversation\",\"text_in_video\",\"logo\"]}] created_at=2024-02-20T16:34:03.764Z\n",
      "id=65d46e4879384c4778ab30f9 name=soccer engines=[{\"name\":\"marengo2.5\",\"options\":[\"visual\",\"conversation\"]}] created_at=2024-02-20T09:18:00.475Z\n",
      "id=65d349536efba5e3988d6d4c name=<YOUR_INDEX_NAME> engines=[{\"name\":\"marengo2.5\",\"options\":[\"visual\",\"conversation\",\"text_in_video\",\"logo\"]},{\"name\":\"pegasus1\",\"options\":[\"visual\",\"conversation\"]}] created_at=2024-02-19T12:28:03.195Z\n",
      "id=65d345106efba5e3988d6d4b name=57d0268c-f580-489d-ae39-ddb9320796f2 engines=[{\"name\":\"marengo2.5\",\"options\":[\"visual\",\"conversation\",\"text_in_video\",\"logo\"]}] created_at=2024-02-19T12:09:52.264Z\n",
      "id=65d345026efba5e3988d6d4a name=e4e97b47-0f9d-4595-8bda-c34c1b064778 engines=[{\"name\":\"marengo2.5\",\"options\":[\"visual\",\"conversation\",\"text_in_video\",\"logo\"]}] created_at=2024-02-19T12:09:38.039Z\n",
      "id=65d33c586efba5e3988d6d43 name=c3770ee8-9d93-4c39-8bd0-46c26366ef27 engines=[{\"name\":\"marengo2.5\",\"options\":[\"visual\",\"conversation\",\"text_in_video\",\"logo\"]}] created_at=2024-02-19T11:32:40.858Z\n",
      "id=65d33b886efba5e3988d6d3d name=16094734-f3b5-4415-a140-5d46dd703732 engines=[{\"name\":\"pegasus1\",\"options\":[\"visual\",\"conversation\"]},{\"name\":\"marengo2.5\",\"options\":[\"visual\",\"conversation\",\"text_in_video\",\"logo\"]}] created_at=2024-02-19T11:29:12.583Z\n",
      "id=65d2f02c6efba5e3988d6cdc name=e693f14c-51dd-4766-b687-221a41898c9e engines=[{\"name\":\"pegasus1\",\"options\":[\"visual\",\"conversation\"]}] created_at=2024-02-19T06:07:40.359Z\n",
      "id=65d2f01c6efba5e3988d6cdb name=020ecea7-fe44-4b9a-8eaa-afe4c2097878 engines=[{\"name\":\"pegasus1\",\"options\":[\"visual\",\"conversation\"]}] created_at=2024-02-19T06:07:24.334Z\n",
      "id=65cafe811f36bad267ea76c3 name=Pegasus-visual-conversation engines=[{\"name\":\"pegasus1\",\"options\":[\"visual\",\"conversation\"]}] created_at=2024-02-13T05:30:41.293Z\n",
      "id=65ca2a5d1f36bad267ea7650 name=marengo2.5-visual-conversation engines=[{\"name\":\"marengo2.5\",\"options\":[\"visual\",\"conversation\"]}] created_at=2024-02-12T14:25:33.429Z\n",
      "id=65ca05581f36bad267ea763e name=Sample videos engines=[{\"name\":\"pegasus1\",\"options\":[\"visual\",\"conversation\"]}] created_at=2024-02-12T11:47:36.19Z\n",
      "id=65b9f54d9e8268207038442e name=Dancing and Cooking engines=[{\"name\":\"marengo2.5\",\"options\":[\"visual\",\"conversation\",\"text_in_video\",\"logo\"]}] created_at=2024-01-31T07:22:53.744Z\n",
      "id=65d33c066efba5e3988d6d42 name=6eab6bc1-a863-4bda-863d-74c1e55d9951 engines=[{\"name\":\"marengo2.5\",\"options\":[\"visual\",\"conversation\",\"text_in_video\",\"logo\"]}] created_at=2024-02-19T11:31:18.395Z\n",
      "id=65d33bd96efba5e3988d6d41 name=6b2d85c4-4ac0-4a71-a821-daae99679aad engines=[{\"name\":\"pegasus1\",\"options\":[\"visual\",\"conversation\"]},{\"name\":\"marengo2.5\",\"options\":[\"visual\",\"conversation\",\"text_in_video\",\"logo\"]}] created_at=2024-02-19T11:30:33.088Z\n",
      "id=65d33bbd6efba5e3988d6d40 name=5d989844-5de3-4a3f-a13a-4aaa0fd6e293 engines=[{\"name\":\"marengo2.5\",\"options\":[\"visual\",\"conversation\",\"text_in_video\",\"logo\"]},{\"name\":\"pegasus1\",\"options\":[\"visual\",\"conversation\"]}] created_at=2024-02-19T11:30:05.834Z\n",
      "id=65d33ba36efba5e3988d6d3f name=b19ab506-e6c7-486a-97e8-427ee9247b7a engines=[{\"name\":\"marengo2.5\",\"options\":[\"visual\",\"conversation\",\"text_in_video\",\"logo\"]},{\"name\":\"pegasus1\",\"options\":[\"visual\",\"conversation\"]}] created_at=2024-02-19T11:29:38.991Z\n",
      "id=65d33b976efba5e3988d6d3e name=9ebed936-9e6a-43d3-8dd5-f8a84f178594 engines=[{\"name\":\"pegasus1\",\"options\":[\"visual\",\"conversation\"]},{\"name\":\"marengo2.5\",\"options\":[\"visual\",\"conversation\",\"text_in_video\",\"logo\"]}] created_at=2024-02-19T11:29:27.451Z\n",
      "id=65d33b886efba5e3988d6d3d name=16094734-f3b5-4415-a140-5d46dd703732 engines=[{\"name\":\"pegasus1\",\"options\":[\"visual\",\"conversation\"]},{\"name\":\"marengo2.5\",\"options\":[\"visual\",\"conversation\",\"text_in_video\",\"logo\"]}] created_at=2024-02-19T11:29:12.583Z\n",
      "id=65d2f02c6efba5e3988d6cdc name=e693f14c-51dd-4766-b687-221a41898c9e engines=[{\"name\":\"pegasus1\",\"options\":[\"visual\",\"conversation\"]}] created_at=2024-02-19T06:07:40.359Z\n",
      "id=65d2f01c6efba5e3988d6cdb name=020ecea7-fe44-4b9a-8eaa-afe4c2097878 engines=[{\"name\":\"pegasus1\",\"options\":[\"visual\",\"conversation\"]}] created_at=2024-02-19T06:07:24.334Z\n",
      "id=65cafe811f36bad267ea76c3 name=Pegasus-visual-conversation engines=[{\"name\":\"pegasus1\",\"options\":[\"visual\",\"conversation\"]}] created_at=2024-02-13T05:30:41.293Z\n",
      "id=65ca2a5d1f36bad267ea7650 name=marengo2.5-visual-conversation engines=[{\"name\":\"marengo2.5\",\"options\":[\"visual\",\"conversation\"]}] created_at=2024-02-12T14:25:33.429Z\n",
      "id=65ca05581f36bad267ea763e name=Sample videos engines=[{\"name\":\"pegasus1\",\"options\":[\"visual\",\"conversation\"]}] created_at=2024-02-12T11:47:36.19Z\n",
      "id=65b9f54d9e8268207038442e name=Dancing and Cooking engines=[{\"name\":\"marengo2.5\",\"options\":[\"visual\",\"conversation\",\"text_in_video\",\"logo\"]}] created_at=2024-01-31T07:22:53.744Z\n"
     ]
    }
   ],
   "source": [
    "import { TwelveLabs, Index } from 'twelvelabs-js';\n",
    "(async () => {\n",
    "const client = new TwelveLabs({ apiKey: TL_API_KEY });\n",
    "const indexes = await client.index.listPagination({pageLimit:5});\n",
    "indexes.data.forEach((index: Index) => {\n",
    "  console.log(\n",
    "    `id=${index.id} name=${index.name} engines=${JSON.stringify(index.engines)} created_at=${index.createdAt}`,\n",
    "  );\n",
    "});\n",
    "while (true) {\n",
    "  const nextPageData = await indexes.next();\n",
    "  if (!nextPageData) {\n",
    "    break;\n",
    "  }\n",
    "  nextPageData.forEach((index: Index) => {\n",
    "    console.log(\n",
    "      `id=${index.id} name=${index.name} engines=${JSON.stringify(index.engines)} created_at=${index.createdAt}`,\n",
    "    );\n",
    "  });\n",
    "}\n",
    "})();"
   ]
  },
  {
   "cell_type": "markdown",
   "metadata": {},
   "source": [
    "# API Reference"
   ]
  },
  {
   "cell_type": "markdown",
   "metadata": {},
   "source": [
    "## List video indexing tasks"
   ]
  },
  {
   "cell_type": "code",
   "execution_count": 20,
   "metadata": {},
   "outputs": [
    {
     "name": "stdout",
     "output_type": "stream",
     "text": [
      "Promise { <pending> }\n"
     ]
    },
    {
     "name": "stdout",
     "output_type": "stream",
     "text": [
      "id=65e9493abb29f13bdd6f3e56, indexId=65e9491dbb29f13bdd6f3e55, estimatedTime=2024-03-07T05:04:02.174Z, status=ready, metadata={\"filename\":\"02.mp4\",\"duration\":579.12,\"width\":640,\"height\":360}, createdAt=2024-03-07T04:57:30.818Z, updatedAt=2024-03-07T05:05:37.51Z\n",
      "id=65e94878bb29f13bdd6f3e4f, indexId=65d4d7b379384c4778ab310e, estimatedTime=2024-03-07T05:00:20.608Z, status=ready, metadata={\"filename\":\"02.mp4\",\"duration\":579.12,\"width\":640,\"height\":360}, createdAt=2024-03-07T04:54:16.993Z, updatedAt=2024-03-07T05:02:15.779Z\n",
      "id=65e86608bb29f13bdd6f3c2e, indexId=65e1d1e4bb29f13bdd6f3322, estimatedTime=2024-03-06T16:12:03.96Z, status=ready, metadata={\"filename\":\"1.mp4\",\"duration\":159.292467,\"width\":854,\"height\":480}, createdAt=2024-03-06T12:48:08.685Z, updatedAt=2024-03-06T16:14:05.911Z\n",
      "id=65e865b7bb29f13bdd6f3c2b, indexId=65e1d1e4bb29f13bdd6f3322, estimatedTime=2024-03-06T16:09:49.918Z, status=ready, metadata={\"filename\":\"1.mp4\",\"duration\":159.292467,\"width\":854,\"height\":480}, createdAt=2024-03-06T12:46:47.75Z, updatedAt=2024-03-06T16:11:45.942Z\n",
      "id=65e86582bb29f13bdd6f3c28, indexId=65e1d1e4bb29f13bdd6f3322, estimatedTime=2024-03-06T16:09:48.575Z, status=ready, metadata={\"filename\":\"1.mp4\",\"duration\":159.292467,\"width\":854,\"height\":480}, createdAt=2024-03-06T12:45:54.256Z, updatedAt=2024-03-06T16:11:53.629Z\n",
      "id=65e86534bb29f13bdd6f3c25, indexId=65e1d1e4bb29f13bdd6f3322, estimatedTime=2024-03-06T16:09:10.793Z, status=ready, metadata={\"filename\":\"1.mp4\",\"duration\":159.292467,\"width\":854,\"height\":480}, createdAt=2024-03-06T12:44:36.356Z, updatedAt=2024-03-06T16:11:12.299Z\n",
      "id=65e84987bb29f13bdd6f3bd0, indexId=65e71802bb29f13bdd6f38d8, estimatedTime=2024-03-06T17:01:37.515Z, status=ready, metadata={\"filename\":\"02.mp4\",\"duration\":579.12,\"width\":640,\"height\":360}, createdAt=2024-03-06T10:46:31.514Z, updatedAt=2024-03-06T17:06:36.632Z\n",
      "id=65e5ae52bb29f13bdd6f37c8, indexId=65e1d1e4bb29f13bdd6f3322, estimatedTime=2024-03-04T11:24:45.798Z, status=ready, metadata={\"filename\":\"cr7-best-goals.mp4\",\"duration\":579.12,\"width\":640,\"height\":360}, createdAt=2024-03-04T11:19:46.901Z, updatedAt=2024-03-04T11:29:25.262Z\n",
      "id=65e5ad18bb29f13bdd6f37c5, indexId=65e1d1e4bb29f13bdd6f3322, estimatedTime=2024-03-04T11:21:19.553Z, status=ready, metadata={\"filename\":\"messi-magic-moments.mp4\",\"duration\":726.266667,\"width\":640,\"height\":360}, createdAt=2024-03-04T11:14:32.642Z, updatedAt=2024-03-04T11:27:01.417Z\n",
      "id=65e56d94bb29f13bdd6f3735, indexId=65e569b6bb29f13bdd6f3731, estimatedTime=2024-03-04T06:48:52.878Z, status=ready, metadata={\"filename\":\"cr7-50-goals-impossible-to-forget.mp4\",\"duration\":680,\"width\":640,\"height\":360}, createdAt=2024-03-04T06:43:32.718Z, updatedAt=2024-03-04T06:50:27.177Z\n",
      "id=65e56d50bb29f13bdd6f3732, indexId=65e569b6bb29f13bdd6f3731, estimatedTime=2024-03-04T06:47:28.073Z, status=ready, metadata={\"filename\":\"02.mp4\",\"duration\":579.12,\"width\":640,\"height\":360}, createdAt=2024-03-04T06:42:24.676Z, updatedAt=2024-03-04T06:48:02.576Z\n",
      "id=65e1da4cbb29f13bdd6f3326, indexId=65e01384bb29f13bdd6f317a, estimatedTime=2024-03-01T13:44:27.33Z, status=ready, metadata={\"filename\":\"02.mp4\",\"duration\":579.12,\"width\":640,\"height\":360}, createdAt=2024-03-01T13:38:20.17Z, updatedAt=2024-03-01T13:46:41.238Z\n",
      "id=65e013b4bb29f13bdd6f317b, indexId=65e01384bb29f13bdd6f317a, estimatedTime=2024-02-29T05:26:03.608Z, status=ready, metadata={\"filename\":\"football-greatest-moments.mp4\",\"duration\":741.875,\"width\":640,\"height\":360}, createdAt=2024-02-29T05:18:44.56Z, updatedAt=2024-02-29T05:28:43.976Z\n",
      "id=65d88a13abd7318d0147309b, indexId=65d889acabd7318d0147309a, estimatedTime=2024-02-23T13:44:40.949Z, status=ready, metadata={\"filename\":\"messi-magic-moments.mp4\",\"duration\":726.266667,\"width\":640,\"height\":360}, createdAt=2024-02-23T12:05:39.4Z, updatedAt=2024-02-23T13:45:33.212Z\n",
      "id=65d87b7186c08c986641e658, indexId=65d349536efba5e3988d6d4c, estimatedTime=2024-02-23T14:13:22.185Z, status=ready, metadata={\"filename\":\"messi-magic-moments.mp4\",\"duration\":726.266667,\"width\":640,\"height\":360}, createdAt=2024-02-23T11:03:13.643Z, updatedAt=2024-02-23T14:19:08.74Z\n",
      "id=65d6130d2c678053f12ba05a, indexId=65d4d7b379384c4778ab310e, estimatedTime=2024-02-21T15:19:06.379Z, status=ready, metadata={\"filename\":\"123 Years of Juventus: Best Football Moments and Goals\",\"duration\":466,\"width\":1280,\"height\":720}, createdAt=2024-02-21T15:13:17.791Z, updatedAt=2024-02-21T15:20:57.966Z\n",
      "id=65d60bc12c678053f12ba058, indexId=65d4d7b379384c4778ab310e, estimatedTime=2024-02-21T14:48:05.656Z, status=ready, metadata={\"filename\":\"123 Years of Juventus: Best Football Moments and Goals\",\"duration\":466,\"width\":1280,\"height\":720}, createdAt=2024-02-21T14:42:09.593Z, updatedAt=2024-02-21T14:49:44.429Z\n",
      "id=65d5fbac79384c4778ab321f, indexId=65d4d7b379384c4778ab310e, estimatedTime=2024-02-21T13:40:24.963Z, status=ready, metadata={\"duration\":726.266667,\"width\":640,\"height\":360}, createdAt=2024-02-21T13:33:32.022Z, updatedAt=2024-02-21T13:42:48.785Z\n",
      "id=65d5887c79384c4778ab31e1, indexId=65d4d7b379384c4778ab310e, estimatedTime=2024-02-21T05:25:45.786Z, status=ready, metadata={\"filename\":\"1.mp4\",\"duration\":159.292467,\"width\":854,\"height\":480}, createdAt=2024-02-21T05:22:04.591Z, updatedAt=2024-02-21T05:26:28.685Z\n",
      "id=65d5886479384c4778ab31de, indexId=65d4d7b379384c4778ab310e, estimatedTime=2024-02-21T05:25:47.797Z, status=ready, metadata={\"filename\":\"1.mp4\",\"duration\":159.292467,\"width\":854,\"height\":480}, createdAt=2024-02-21T05:21:40.49Z, updatedAt=2024-02-21T05:26:36.918Z\n",
      "id=65d4d90a79384c4778ab3114, indexId=65d4d7b379384c4778ab310e, estimatedTime=2024-02-20T16:59:09.991Z, status=ready, metadata={\"filename\":\"2.mp4\",\"duration\":393.760033,\"width\":854,\"height\":480}, createdAt=2024-02-20T16:53:30.425Z, updatedAt=2024-02-20T17:00:47.982Z\n",
      "id=65d4d7c279384c4778ab310f, indexId=65d4d7b379384c4778ab310e, estimatedTime=2024-02-20T16:52:11.09Z, status=ready, metadata={\"filename\":\"1.mp4\",\"duration\":159.292467,\"width\":854,\"height\":480}, createdAt=2024-02-20T16:48:02.411Z, updatedAt=2024-02-20T16:53:06.23Z\n",
      "id=65d4700979384c4778ab30fd, indexId=65d46e4879384c4778ab30f9, estimatedTime=2024-02-20T09:30:19.743Z, status=ready, metadata={\"filename\":\"messi-magic-moments.mp4\",\"duration\":726.266667,\"width\":640,\"height\":360}, createdAt=2024-02-20T09:25:29.683Z, updatedAt=2024-02-20T09:32:41.713Z\n",
      "id=65d46ef879384c4778ab30fa, indexId=65d46e4879384c4778ab30f9, estimatedTime=2024-02-20T09:27:03.026Z, status=ready, metadata={\"filename\":\"cr7-best-goals.mp4\",\"duration\":579.12,\"width\":640,\"height\":360}, createdAt=2024-02-20T09:20:56.321Z, updatedAt=2024-02-20T09:28:45.859Z\n",
      "id=65cafff21f36bad267ea76c5, indexId=65cafe811f36bad267ea76c3, estimatedTime=2024-02-13T05:43:05.374Z, status=ready, metadata={\"filename\":\"How I would learn to code (If I could start over)\",\"duration\":556,\"width\":1280,\"height\":720}, createdAt=2024-02-13T05:36:50.808Z, updatedAt=2024-02-13T05:46:59.622Z\n",
      "id=65ca2bc41f36bad267ea7651, indexId=65ca2a5d1f36bad267ea7650, estimatedTime=2024-02-12T14:33:17.329Z, status=ready, metadata={\"filename\":\"JUVENTUS 6-1 SALERNITANA | STARTING THE YEAR WITH SIX GOALS | COPPA ITALIA\",\"duration\":192,\"width\":1280,\"height\":720}, createdAt=2024-02-12T14:31:32.958Z, updatedAt=2024-02-12T14:33:49.127Z\n",
      "id=65ca09b31f36bad267ea7642, indexId=65ca05581f36bad267ea763e, estimatedTime=2024-02-12T12:08:13.336Z, status=ready, metadata={\"filename\":\"CAUGHT ON CAMERA: Driver robbed while in San Francisco traffic near I-80 on-ramp\",\"duration\":41,\"width\":1280,\"height\":720}, createdAt=2024-02-12T12:06:11.461Z, updatedAt=2024-02-12T12:09:49.867Z\n",
      "id=65ca099f1f36bad267ea7641, indexId=65ca05581f36bad267ea763e, estimatedTime=2024-02-12T12:07:19.412Z, status=ready, metadata={\"filename\":\"FULL VIDEO: Violent robbery in SF caught on camera\",\"duration\":70,\"width\":1280,\"height\":720}, createdAt=2024-02-12T12:05:51.899Z, updatedAt=2024-02-12T12:09:50.069Z\n",
      "id=65ca08c31f36bad267ea7640, indexId=65ca05581f36bad267ea763e, estimatedTime=2024-02-12T12:07:12.87Z, status=ready, metadata={\"filename\":\"Caught on Security Camera: Liquor Store Robberies\",\"duration\":265,\"width\":1280,\"height\":720}, createdAt=2024-02-12T12:02:11.925Z, updatedAt=2024-02-12T12:10:34.448Z\n",
      "id=65ca05f51f36bad267ea763f, indexId=65ca05581f36bad267ea763e, estimatedTime=2024-02-12T11:58:30.381Z, status=ready, metadata={\"filename\":\"10 ULTIMATE Python Tips 🔥\",\"duration\":1002,\"width\":1280,\"height\":720}, createdAt=2024-02-12T11:50:13.564Z, updatedAt=2024-02-12T12:09:31.826Z\n",
      "id=65b9f6c29e82682070384434, indexId=65b9f54d9e8268207038442e, estimatedTime=2024-01-31T07:31:59.797Z, status=ready, metadata={\"filename\":\"Lemon Crunchy Chicken cooked in the middle of the forest. ASMR cooking. NO TALK\",\"duration\":463,\"width\":1280,\"height\":720}, createdAt=2024-01-31T07:29:06.139Z, updatedAt=2024-01-31T07:33:35.013Z\n",
      "id=65b9f6b89e82682070384433, indexId=65b9f54d9e8268207038442e, estimatedTime=2024-01-31T07:31:07.076Z, status=ready, metadata={\"filename\":\"2DAY SQUAD | 2023 SHOWCASE\",\"duration\":297,\"width\":1280,\"height\":720}, createdAt=2024-01-31T07:28:56.522Z, updatedAt=2024-01-31T07:32:09.177Z\n",
      "id=65b9f6b89e82682070384432, indexId=65b9f54d9e8268207038442e, estimatedTime=2024-01-31T07:31:34.483Z, status=ready, metadata={\"filename\":\"The Best Sandwich You’ll Ever Make (Deli-Quality) | Epicurious 101\",\"duration\":403,\"width\":1280,\"height\":720}, createdAt=2024-01-31T07:28:56.474Z, updatedAt=2024-01-31T07:32:25.731Z\n",
      "id=65b9f6b79e82682070384431, indexId=65b9f54d9e8268207038442e, estimatedTime=2024-01-31T07:31:22.58Z, status=ready, metadata={\"filename\":\"The Evolution of Dance - 1950 to 2019 - By Ricardo Walker's Crew\",\"duration\":358,\"width\":1280,\"height\":720}, createdAt=2024-01-31T07:28:55.406Z, updatedAt=2024-01-31T07:32:15.758Z\n"
     ]
    }
   ],
   "source": [
    "import { TwelveLabs, Task } from 'twelvelabs-js';\n",
    "(async () => {\n",
    "  const client = new TwelveLabs({ apiKey: TL_API_KEY });\n",
    "  const tasks = await client.task.listPagination();\n",
    "  printPage(tasks.data);\n",
    "  while (true) {\n",
    "    const nextPageData = await tasks.next();\n",
    "    if (!nextPageData) {\n",
    "      break;\n",
    "    }\n",
    "    printPage(nextPageData);\n",
    "  }\n",
    "\n",
    "  function printPage(nextPageData: Task[]) {\n",
    "    nextPageData.forEach((task: Task) => {\n",
    "      console.log(\n",
    "        `id=${task.id}, indexId=${task.indexId}, estimatedTime=${task.estimatedTime}, status=${task.status}, metadata=${JSON.stringify(task.metadata)}, createdAt=${task.createdAt}, updatedAt=${task.updatedAt}`\n",
    "      );\n",
    "    });\n",
    "  }\n",
    "})();\n",
    "\n"
   ]
  }
 ],
 "metadata": {
  "kernelspec": {
   "display_name": "TypeScript",
   "language": "typescript",
   "name": "tslab"
  },
  "language_info": {
   "codemirror_mode": {
    "mode": "typescript",
    "name": "javascript",
    "typescript": true
   },
   "file_extension": ".ts",
   "mimetype": "text/typescript",
   "name": "typescript",
   "version": "3.7.2"
  }
 },
 "nbformat": 4,
 "nbformat_minor": 2
}
